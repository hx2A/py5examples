{
 "cells": [
  {
   "cell_type": "markdown",
   "id": "aca7d498-2317-4460-ba99-37c27e854324",
   "metadata": {},
   "source": [
    "# Rotating Cube\n",
    "\n",
    "This is a simple demonstration of using py5 in Jupyter notebooks. This will use the P3D (OpenGL) renderer. If you are running this notebook through binder, the running Sketch will be viewable through a py5 Sketch Portal.\n",
    "\n",
    "[![Binder](https://mybinder.org/badge_logo.svg)](https://mybinder.org/v2/gh/hx2A/py5examples/HEAD?filepath=examples%2FRotating%20Cube.ipynb)\n"
   ]
  },
  {
   "cell_type": "markdown",
   "id": "6d19e126-9c37-4ab7-aaf1-a11ef5fc7b91",
   "metadata": {},
   "source": [
    "## Import py5 and py5_tools\n",
    "\n",
    "Import the py5 library. When the library is imported the Java Virtual Machine (JVM) is started."
   ]
  },
  {
   "cell_type": "code",
   "execution_count": 1,
   "id": "26b3834f-a171-4229-97c1-6cee9d335eba",
   "metadata": {},
   "outputs": [],
   "source": [
    "import py5_tools\n",
    "import py5"
   ]
  },
  {
   "cell_type": "markdown",
   "id": "d70a8072-d85d-4be6-bd53-3c4570608c2a",
   "metadata": {},
   "source": [
    "## Define Global Variables\n",
    "\n",
    "Define some global variables that will be used by the Sketch."
   ]
  },
  {
   "cell_type": "code",
   "execution_count": 2,
   "id": "8ed9a999-a272-4ee9-8757-3a03fd9d1b5b",
   "metadata": {},
   "outputs": [],
   "source": [
    "rot_x = 0\n",
    "rot_y = 0\n",
    "rot_z = 0"
   ]
  },
  {
   "cell_type": "markdown",
   "id": "128cc381-6116-4f2d-b566-156dd53f6923",
   "metadata": {},
   "source": [
    "## Define `settings` Method\n",
    "\n",
    "This will set the width and height of the Sketch. In py5, calls to the `size()` method must go in `settings()`, which is separate from `setup()`.\n",
    "\n",
    "In a future release, py5 will allow you to call the `size()` method from `setup()` and skip `settings()` altogether. This is analogous to what can be done in the Processing IDE."
   ]
  },
  {
   "cell_type": "code",
   "execution_count": 3,
   "id": "9d0a4a73-f302-4216-a826-f30af6785e96",
   "metadata": {},
   "outputs": [],
   "source": [
    "def settings():\n",
    "    py5.size(400, 400, py5.P3D)"
   ]
  },
  {
   "cell_type": "markdown",
   "id": "9cc18f60-b951-4463-9918-c5d51ee57683",
   "metadata": {},
   "source": [
    "## Define `setup` Method\n",
    "\n",
    "The setup method will set the frame rate and other basic setup type stuff."
   ]
  },
  {
   "cell_type": "code",
   "execution_count": 4,
   "id": "f843ca3e-afec-4350-867f-3521c1dcb6a6",
   "metadata": {},
   "outputs": [],
   "source": [
    "def setup():\n",
    "    py5.frame_rate(30)\n",
    "    py5.stroke_weight(8)\n",
    "    py5.stroke(0)\n",
    "    py5.no_fill()"
   ]
  },
  {
   "cell_type": "markdown",
   "id": "fa9b4be8-100e-4d00-93a6-11af71cd9c18",
   "metadata": {},
   "source": [
    "## Define `draw` Method\n",
    "\n",
    "The draw method will do some transformations and draw a box."
   ]
  },
  {
   "cell_type": "code",
   "execution_count": 5,
   "id": "6d7adde3-ecab-4399-bfa8-6b35fa66c66d",
   "metadata": {},
   "outputs": [],
   "source": [
    "def draw():\n",
    "    py5.background(192)\n",
    "\n",
    "    global rot_x\n",
    "    rot_x += 0.8\n",
    "    global rot_y\n",
    "    rot_y += 0.3\n",
    "    global rot_z\n",
    "    rot_z += 0.5\n",
    "\n",
    "    py5.translate(py5.width / 2, py5.height / 2, -200)\n",
    "    py5.rotate_x(py5.radians(rot_x))\n",
    "    py5.rotate_y(py5.radians(rot_y))\n",
    "    py5.rotate_z(py5.radians(rot_z))\n",
    "\n",
    "    py5.box(250)"
   ]
  },
  {
   "cell_type": "markdown",
   "id": "fafb8281-ae53-4e5b-a424-6cdb2347139c",
   "metadata": {},
   "source": [
    "## Run the Sketch\n",
    "\n",
    "Run the sketch, opening a window on the display. If you are running this through a JupterHub platform such as binder, no window will appear on your computer because the Sketch is really running on a server in the cloud. As an alternative, we will create a py5 Sketch Portal to view the animation."
   ]
  },
  {
   "cell_type": "code",
   "execution_count": 9,
   "id": "3799f21b-e2c9-452c-8c67-c8fa6e599100",
   "metadata": {},
   "outputs": [],
   "source": [
    "py5.run_sketch()"
   ]
  },
  {
   "cell_type": "markdown",
   "id": "b1c8631f-d97c-4a39-9262-28a9c5b1a1c9",
   "metadata": {},
   "source": [
    "## Open the py5 Sketch Portal\n",
    "\n",
    "This will create a Sketch portal and embed it in the notebook.\n",
    "\n",
    "Internally the portal uses a hook mechanism that allows you to insert code to be run before or after any py5 method. This hook mechanism will also allow developers to create py5 libraries and extensions."
   ]
  },
  {
   "cell_type": "code",
   "execution_count": 10,
   "id": "37441e77-de01-437b-b5f1-d7c437d8df58",
   "metadata": {},
   "outputs": [
    {
     "data": {
      "application/vnd.jupyter.widget-view+json": {
       "model_id": "",
       "version_major": 2,
       "version_minor": 0
      },
      "text/plain": [
       "Py5SketchPortal(value=b'', layout=\"Layout(border='1px solid gray', height='400px', width='400px')\")"
      ]
     },
     "metadata": {},
     "output_type": "display_data"
    }
   ],
   "source": [
    "portal = py5_tools.sketch_portal(quality=75, scale=1.0)\n",
    "\n",
    "portal"
   ]
  },
  {
   "cell_type": "markdown",
   "id": "9b884946-f480-475b-b1c6-5b52baac0b33",
   "metadata": {},
   "source": [
    "You should see a clean and smooth animation. If you are running this through mybinder, that will be dependent on your having a good internet connection and a well behaved server. If it seems jumpy, try adjusting the quality, the scale. You can also try using the `throttle_frame_rate` parameter. See the documenation for more information."
   ]
  },
  {
   "cell_type": "markdown",
   "id": "66565b93-bbdc-48ea-baaf-47d9559678f8",
   "metadata": {},
   "source": [
    "## Check the Sketch `frame_rate`\n",
    "\n",
    "Check the frame rate. You should be able to get 30 frames per second for this Sketch. I've been able to get 60 frames per second while running on mybinder, but not all the time."
   ]
  },
  {
   "cell_type": "code",
   "execution_count": 11,
   "id": "bfe8c4fb-2d73-4540-9552-b7dceb9c8cd5",
   "metadata": {},
   "outputs": [
    {
     "data": {
      "text/plain": [
       "22.109771728515625"
      ]
     },
     "execution_count": 11,
     "metadata": {},
     "output_type": "execute_result"
    }
   ],
   "source": [
    "py5.get_frame_rate()"
   ]
  },
  {
   "cell_type": "markdown",
   "id": "ca3b15b1-d9c8-4cf5-ab7a-c52477aca2e8",
   "metadata": {},
   "source": [
    "## Next Steps for Jupyter Lab Users\n",
    "\n",
    "If you are using Jupyter Lab, after executing the previous cell, try right clicking in the output area and selecting `Create New View for Output`. This will create a new panel just for the Sketch portal. Creating a `New Console for Notebook` and creating a portal there works well also."
   ]
  },
  {
   "cell_type": "code",
   "execution_count": null,
   "id": "e38a5d08-f787-489c-9b14-ce75aa3d9d4c",
   "metadata": {},
   "outputs": [],
   "source": []
  }
 ],
 "metadata": {
  "kernelspec": {
   "display_name": "Python 3",
   "language": "python",
   "name": "python3"
  },
  "language_info": {
   "codemirror_mode": {
    "name": "ipython",
    "version": 3
   },
   "file_extension": ".py",
   "mimetype": "text/x-python",
   "name": "python",
   "nbconvert_exporter": "python",
   "pygments_lexer": "ipython3",
   "version": "3.8.10"
  },
  "widgets": {
   "application/vnd.jupyter.widget-state+json": {
    "state": {},
    "version_major": 2,
    "version_minor": 0
   }
  }
 },
 "nbformat": 4,
 "nbformat_minor": 5
}
