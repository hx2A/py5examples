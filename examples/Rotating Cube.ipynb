{
 "cells": [
  {
   "cell_type": "markdown",
   "id": "aca7d498-2317-4460-ba99-37c27e854324",
   "metadata": {},
   "source": [
    "# Rotating Cube\n",
    "\n",
    "This is a simple demonstration of using py5 in Jupyter notebooks. This will use the P3D (OpenGL) renderer. If you are running this notebook through binder, the running Sketch will be viewable through a py5 Sketch Portal.\n",
    "\n",
    "[![Binder](https://mybinder.org/badge_logo.svg)](https://mybinder.org/v2/gh/hx2A/py5examples/HEAD?filepath=examples%2FRotating%20Cube.ipynb)\n"
   ]
  },
  {
   "cell_type": "markdown",
   "id": "6d19e126-9c37-4ab7-aaf1-a11ef5fc7b91",
   "metadata": {},
   "source": [
    "## Import py5 and py5_tools\n",
    "\n",
    "Import the py5 library. When the library is imported the Java Virtual Machine (JVM) is started."
   ]
  },
  {
   "cell_type": "code",
   "execution_count": 1,
   "id": "26b3834f-a171-4229-97c1-6cee9d335eba",
   "metadata": {},
   "outputs": [],
   "source": [
    "import py5_tools\n",
    "import py5"
   ]
  },
  {
   "cell_type": "markdown",
   "id": "d70a8072-d85d-4be6-bd53-3c4570608c2a",
   "metadata": {},
   "source": [
    "## Define Global Variables\n",
    "\n",
    "Define some global variables that will be used by the Sketch."
   ]
  },
  {
   "cell_type": "code",
   "execution_count": 2,
   "id": "8ed9a999-a272-4ee9-8757-3a03fd9d1b5b",
   "metadata": {},
   "outputs": [],
   "source": [
    "rot_x = 0\n",
    "rot_y = 0\n",
    "rot_z = 0"
   ]
  },
  {
   "cell_type": "markdown",
   "id": "128cc381-6116-4f2d-b566-156dd53f6923",
   "metadata": {},
   "source": [
    "## Define `setup` Method\n",
    "\n",
    "This will set the width and height of the Sketch, along with the frame rate and other basic setup type stuff.\n",
    "\n",
    "py5 allows you to call the `size()` method from `setup()` and skip `settings()` altogether. This is analogous to what can be done in the Processing IDE."
   ]
  },
  {
   "cell_type": "code",
   "execution_count": 3,
   "id": "9d0a4a73-f302-4216-a826-f30af6785e96",
   "metadata": {},
   "outputs": [],
   "source": [
    "def setup():\n",
    "    py5.size(400, 400, py5.P3D)\n",
    "    py5.frame_rate(30)\n",
    "    py5.stroke_weight(8)\n",
    "    py5.stroke(0)\n",
    "    py5.no_fill()"
   ]
  },
  {
   "cell_type": "markdown",
   "id": "fa9b4be8-100e-4d00-93a6-11af71cd9c18",
   "metadata": {},
   "source": [
    "## Define `draw` Method\n",
    "\n",
    "The draw method will do some transformations and draw a box."
   ]
  },
  {
   "cell_type": "code",
   "execution_count": 4,
   "id": "6d7adde3-ecab-4399-bfa8-6b35fa66c66d",
   "metadata": {},
   "outputs": [],
   "source": [
    "def draw():\n",
    "    py5.background(192)\n",
    "\n",
    "    global rot_x\n",
    "    rot_x += 0.8\n",
    "    global rot_y\n",
    "    rot_y += 0.3\n",
    "    global rot_z\n",
    "    rot_z += 0.5\n",
    "\n",
    "    py5.translate(py5.width / 2, py5.height / 2, -200)\n",
    "    py5.rotate_x(py5.radians(rot_x))\n",
    "    py5.rotate_y(py5.radians(rot_y))\n",
    "    py5.rotate_z(py5.radians(rot_z))\n",
    "\n",
    "    py5.box(250)"
   ]
  },
  {
   "cell_type": "markdown",
   "id": "fafb8281-ae53-4e5b-a424-6cdb2347139c",
   "metadata": {},
   "source": [
    "## Run the Sketch\n",
    "\n",
    "Run the sketch, opening a window on the display. If you are running this through a JupterHub platform such as binder, no window will appear on your computer because the Sketch is really running on a server in the cloud. As an alternative, we will create a py5 Sketch Portal to view the animation."
   ]
  },
  {
   "cell_type": "code",
   "execution_count": 5,
   "id": "3799f21b-e2c9-452c-8c67-c8fa6e599100",
   "metadata": {},
   "outputs": [],
   "source": [
    "py5.run_sketch()"
   ]
  },
  {
   "cell_type": "markdown",
   "id": "b1c8631f-d97c-4a39-9262-28a9c5b1a1c9",
   "metadata": {},
   "source": [
    "## Open the py5 Sketch Portal\n",
    "\n",
    "This will create a Sketch portal and embed it in the notebook.\n",
    "\n",
    "Internally the portal uses a hook mechanism that allows you to insert code to be run before or after any py5 method. This hook mechanism will also allow developers to create py5 libraries and extensions."
   ]
  },
  {
   "cell_type": "code",
   "execution_count": 6,
   "id": "37441e77-de01-437b-b5f1-d7c437d8df58",
   "metadata": {},
   "outputs": [
    {
     "data": {
      "application/vnd.jupyter.widget-view+json": {
       "model_id": "bc83b08c3cd9443388ccd86c66dc7fc8",
       "version_major": 2,
       "version_minor": 0
      },
      "text/plain": [
       "VBox(children=(Py5SketchPortal(value=b'', layout=\"Layout(border='1px solid gray', height='400px', width='400px…"
      ]
     },
     "metadata": {},
     "output_type": "display_data"
    }
   ],
   "source": [
    "portal = py5_tools.sketch_portal(quality=75, scale=1.0)\n",
    "\n",
    "portal"
   ]
  },
  {
   "cell_type": "markdown",
   "id": "9b884946-f480-475b-b1c6-5b52baac0b33",
   "metadata": {},
   "source": [
    "You should see a clean and smooth animation. If you are running this through mybinder, that will be dependent on your having a good internet connection and a well behaved server. If it seems jumpy, try adjusting the quality, the scale. You can also try using the `throttle_frame_rate` parameter. See the documenation for more information."
   ]
  },
  {
   "cell_type": "markdown",
   "id": "66565b93-bbdc-48ea-baaf-47d9559678f8",
   "metadata": {},
   "source": [
    "## Check the Sketch `frame_rate`\n",
    "\n",
    "Check the frame rate. You should be able to get 30 frames per second for this Sketch. I've been able to get 60 frames per second while running on mybinder, but not all the time."
   ]
  },
  {
   "cell_type": "code",
   "execution_count": 7,
   "id": "bfe8c4fb-2d73-4540-9552-b7dceb9c8cd5",
   "metadata": {},
   "outputs": [
    {
     "data": {
      "text/plain": [
       "30.05508041381836"
      ]
     },
     "execution_count": 7,
     "metadata": {},
     "output_type": "execute_result"
    }
   ],
   "source": [
    "py5.get_frame_rate()"
   ]
  },
  {
   "cell_type": "markdown",
   "id": "ca3b15b1-d9c8-4cf5-ab7a-c52477aca2e8",
   "metadata": {},
   "source": [
    "## Next Steps for Jupyter Lab Users\n",
    "\n",
    "If you are using Jupyter Lab, after executing the previous cell, try right clicking in the output area and selecting `Create New View for Output`. This will create a new panel just for the Sketch portal. Creating a `New Console for Notebook` and creating a portal there works well also."
   ]
  },
  {
   "cell_type": "code",
   "execution_count": null,
   "id": "e38a5d08-f787-489c-9b14-ce75aa3d9d4c",
   "metadata": {},
   "outputs": [],
   "source": []
  }
 ],
 "metadata": {
  "kernelspec": {
   "display_name": "Python 3",
   "language": "python",
   "name": "python3"
  },
  "language_info": {
   "codemirror_mode": {
    "name": "ipython",
    "version": 3
   },
   "file_extension": ".py",
   "mimetype": "text/x-python",
   "name": "python",
   "nbconvert_exporter": "python",
   "pygments_lexer": "ipython3",
   "version": "3.8.10"
  },
  "widgets": {
   "application/vnd.jupyter.widget-state+json": {
    "state": {
     "0ae3a9397ff34cdd85e9965f7c6fcb7e": {
      "model_module": "@jupyter-widgets/controls",
      "model_module_version": "1.5.0",
      "model_name": "ButtonModel",
      "state": {
       "description": "exit_sketch()",
       "layout": "IPY_MODEL_97f41b2ebb124e2baa8e2ec0bd893dce",
       "style": "IPY_MODEL_f67fa51951474088a18a7b850a5d7632"
      }
     },
     "2030527e51c943479542d62631ff2011": {
      "buffers": [
       {
        "data": "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",
        "encoding": "base64",
        "path": [
         "value"
        ]
       }
      ],
      "model_module": "@jupyter-widgets/controls",
      "model_module_version": "1.5.0",
      "model_name": "ImageModel",
      "state": {
       "layout": "IPY_MODEL_c36beb3034454006a3b07bf9173446dc"
      }
     },
     "97f41b2ebb124e2baa8e2ec0bd893dce": {
      "model_module": "@jupyter-widgets/base",
      "model_module_version": "1.2.0",
      "model_name": "LayoutModel",
      "state": {}
     },
     "bc83b08c3cd9443388ccd86c66dc7fc8": {
      "model_module": "@jupyter-widgets/controls",
      "model_module_version": "1.5.0",
      "model_name": "VBoxModel",
      "state": {
       "children": [
        "IPY_MODEL_2030527e51c943479542d62631ff2011",
        "IPY_MODEL_0ae3a9397ff34cdd85e9965f7c6fcb7e"
       ],
       "layout": "IPY_MODEL_d48a2e26f252453b9b890e90b18f09ed"
      }
     },
     "c36beb3034454006a3b07bf9173446dc": {
      "model_module": "@jupyter-widgets/base",
      "model_module_version": "1.2.0",
      "model_name": "LayoutModel",
      "state": {
       "border": "1px solid gray",
       "height": "400px",
       "width": "400px"
      }
     },
     "d48a2e26f252453b9b890e90b18f09ed": {
      "model_module": "@jupyter-widgets/base",
      "model_module_version": "1.2.0",
      "model_name": "LayoutModel",
      "state": {}
     },
     "f67fa51951474088a18a7b850a5d7632": {
      "model_module": "@jupyter-widgets/controls",
      "model_module_version": "1.5.0",
      "model_name": "ButtonStyleModel",
      "state": {}
     }
    },
    "version_major": 2,
    "version_minor": 0
   }
  }
 },
 "nbformat": 4,
 "nbformat_minor": 5
}
